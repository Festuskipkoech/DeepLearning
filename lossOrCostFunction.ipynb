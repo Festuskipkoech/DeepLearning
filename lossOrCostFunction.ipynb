{
  "nbformat": 4,
  "nbformat_minor": 0,
  "metadata": {
    "colab": {
      "provenance": [],
      "authorship_tag": "ABX9TyO16EVN9lSmuZQjSgb71Lho",
      "include_colab_link": true
    },
    "kernelspec": {
      "name": "python3",
      "display_name": "Python 3"
    },
    "language_info": {
      "name": "python"
    }
  },
  "cells": [
    {
      "cell_type": "markdown",
      "metadata": {
        "id": "view-in-github",
        "colab_type": "text"
      },
      "source": [
        "<a href=\"https://colab.research.google.com/github/Festuskipkoech/DeepLearning/blob/main/lossOrCostFunction.ipynb\" target=\"_parent\"><img src=\"https://colab.research.google.com/assets/colab-badge.svg\" alt=\"Open In Colab\"/></a>"
      ]
    },
    {
      "cell_type": "code",
      "source": [
        "import numpy as np\n",
        "y_predicted=np.array([1,1,0,0,1])\n",
        "y_true=np.array([0.30, 0.7, 1,0, 0.5])"
      ],
      "metadata": {
        "id": "_Ro0461i5LqQ"
      },
      "execution_count": 22,
      "outputs": []
    },
    {
      "cell_type": "code",
      "execution_count": 23,
      "metadata": {
        "id": "pZWzoA4l4-F0"
      },
      "outputs": [],
      "source": [
        "def mae(y_true, y_predicted):\n",
        "  total_error=0\n",
        "  for yt, yp in zip(y_true, y_predicted):\n",
        "    total_error += abs(yt - yp)\n",
        "  print(\"Total error: \", total_error)\n",
        "  mae = total_error / len(y_true)\n",
        "  print(\"Mae\", mae)\n",
        "  return mae"
      ]
    },
    {
      "cell_type": "code",
      "source": [
        "mae(y_true, y_predicted)"
      ],
      "metadata": {
        "colab": {
          "base_uri": "https://localhost:8080/"
        },
        "id": "JAS8Me1lz2sL",
        "outputId": "a557d276-c059-47b0-f113-1b0f0e53985d"
      },
      "execution_count": 24,
      "outputs": [
        {
          "output_type": "stream",
          "name": "stdout",
          "text": [
            "Total error:  2.5\n",
            "Mae 0.5\n"
          ]
        },
        {
          "output_type": "execute_result",
          "data": {
            "text/plain": [
              "0.5"
            ]
          },
          "metadata": {},
          "execution_count": 24
        }
      ]
    },
    {
      "cell_type": "code",
      "source": [
        "np.mean(np.abs(y_predicted-y_true))"
      ],
      "metadata": {
        "colab": {
          "base_uri": "https://localhost:8080/"
        },
        "id": "lqL8FHSv0a7s",
        "outputId": "412e3299-d9fd-40a2-d32f-53ddf68469fc"
      },
      "execution_count": 26,
      "outputs": [
        {
          "output_type": "execute_result",
          "data": {
            "text/plain": [
              "0.5"
            ]
          },
          "metadata": {},
          "execution_count": 26
        }
      ]
    },
    {
      "cell_type": "code",
      "source": [
        "np.log(0.1)"
      ],
      "metadata": {
        "colab": {
          "base_uri": "https://localhost:8080/"
        },
        "id": "cyaCfHaU2RLV",
        "outputId": "f7334ddc-1e37-4755-81ad-6a61332677ba"
      },
      "execution_count": 29,
      "outputs": [
        {
          "output_type": "execute_result",
          "data": {
            "text/plain": [
              "-2.3025850929940455"
            ]
          },
          "metadata": {},
          "execution_count": 29
        }
      ]
    },
    {
      "cell_type": "code",
      "source": [
        "eplison = 1e-15"
      ],
      "metadata": {
        "id": "idqs8DE42g1M"
      },
      "execution_count": 30,
      "outputs": []
    },
    {
      "cell_type": "code",
      "source": [
        "y_predicted_new=[max(i,eplison) for i in y_predicted]\n",
        "y_predicted_new"
      ],
      "metadata": {
        "colab": {
          "base_uri": "https://localhost:8080/"
        },
        "id": "oMAs1AYH2q-D",
        "outputId": "f674cce0-36a3-477e-e8ef-f82bf0e3f17f"
      },
      "execution_count": 33,
      "outputs": [
        {
          "output_type": "execute_result",
          "data": {
            "text/plain": [
              "[1, 1, 1e-15, 1e-15, 1]"
            ]
          },
          "metadata": {},
          "execution_count": 33
        }
      ]
    },
    {
      "cell_type": "code",
      "source": [
        "y_predicted_new = [min(i, 1-eplison) for i in y_predicted_new]\n",
        "y_predicted_new"
      ],
      "metadata": {
        "colab": {
          "base_uri": "https://localhost:8080/"
        },
        "id": "tfiIowag3HpE",
        "outputId": "83b7a49f-6019-44d4-8ed8-18f0c505af1d"
      },
      "execution_count": 34,
      "outputs": [
        {
          "output_type": "execute_result",
          "data": {
            "text/plain": [
              "[0.999999999999999, 0.999999999999999, 1e-15, 1e-15, 0.999999999999999]"
            ]
          },
          "metadata": {},
          "execution_count": 34
        }
      ]
    },
    {
      "cell_type": "code",
      "source": [
        "def log_loss(y_true, y_predicted):\n",
        "  y_predicted_new=[max(i, eplison) for i in y_predicted]\n",
        "  y_predicted_new=[min(i, 1-eplison) for i in y_predicted_new]\n",
        "  y_predicted_new=np.array(y_predicted_new)\n",
        "  return -np.mean(y_true*np.log(y_predicted_new) + (1-y_true)*np.log(1-y_predicted_new))"
      ],
      "metadata": {
        "id": "DJoZfhUA3wnj"
      },
      "execution_count": 37,
      "outputs": []
    },
    {
      "cell_type": "code",
      "source": [
        "log_loss(y_true, y_predicted)"
      ],
      "metadata": {
        "colab": {
          "base_uri": "https://localhost:8080/"
        },
        "id": "7hg29D0s46_Y",
        "outputId": "f3d2d75f-1851-4626-ece8-cf0bdafc28ba"
      },
      "execution_count": 38,
      "outputs": [
        {
          "output_type": "execute_result",
          "data": {
            "text/plain": [
              "17.2696280766844"
            ]
          },
          "metadata": {},
          "execution_count": 38
        }
      ]
    }
  ]
}