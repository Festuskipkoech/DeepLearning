{
  "nbformat": 4,
  "nbformat_minor": 0,
  "metadata": {
    "colab": {
      "provenance": [],
      "authorship_tag": "ABX9TyON0NWTE+j/DekAOhY33+8w",
      "include_colab_link": true
    },
    "kernelspec": {
      "name": "python3",
      "display_name": "Python 3"
    },
    "language_info": {
      "name": "python"
    }
  },
  "cells": [
    {
      "cell_type": "markdown",
      "metadata": {
        "id": "view-in-github",
        "colab_type": "text"
      },
      "source": [
        "<a href=\"https://colab.research.google.com/github/Festuskipkoech/DeepLearning/blob/main/Matrix.ipynb\" target=\"_parent\"><img src=\"https://colab.research.google.com/assets/colab-badge.svg\" alt=\"Open In Colab\"/></a>"
      ]
    },
    {
      "cell_type": "code",
      "execution_count": 1,
      "metadata": {
        "id": "uEoqFIxsoUsm"
      },
      "outputs": [],
      "source": [
        "import numpy as np"
      ]
    },
    {
      "cell_type": "code",
      "source": [
        "revenue = np.array([[180, 200, 220], [24,36, 40], [12,18,20]])\n",
        "expenses=np.array([[80,90,100], [10,16,20], [8,10,10]])"
      ],
      "metadata": {
        "id": "rPFS3uSZsjoE"
      },
      "execution_count": 2,
      "outputs": []
    },
    {
      "cell_type": "code",
      "source": [
        "profit = revenue-expenses\n",
        "profit"
      ],
      "metadata": {
        "colab": {
          "base_uri": "https://localhost:8080/"
        },
        "id": "wfg33FeTtCOf",
        "outputId": "48b33a6a-bc06-4ca0-ccb9-441362e2dad7"
      },
      "execution_count": 3,
      "outputs": [
        {
          "output_type": "execute_result",
          "data": {
            "text/plain": [
              "array([[100, 110, 120],\n",
              "       [ 14,  20,  20],\n",
              "       [  4,   8,  10]])"
            ]
          },
          "metadata": {},
          "execution_count": 3
        }
      ]
    },
    {
      "cell_type": "code",
      "source": [
        "# calculate total sales from units and pice per unit using matrix multiplication\n",
        "price_per_unit=np.array([1000,400,1200])\n",
        "units=np.array([[30,40,50], [5,10,15], [2,5,7]])"
      ],
      "metadata": {
        "id": "lBSLJaKztJTQ"
      },
      "execution_count": 4,
      "outputs": []
    },
    {
      "cell_type": "code",
      "source": [
        "price_per_unit*units"
      ],
      "metadata": {
        "colab": {
          "base_uri": "https://localhost:8080/"
        },
        "id": "UPKBLMz6tnuq",
        "outputId": "9fb87a54-f5e6-40b7-e8b0-e29cecd55891"
      },
      "execution_count": 5,
      "outputs": [
        {
          "output_type": "execute_result",
          "data": {
            "text/plain": [
              "array([[30000, 16000, 60000],\n",
              "       [ 5000,  4000, 18000],\n",
              "       [ 2000,  2000,  8400]])"
            ]
          },
          "metadata": {},
          "execution_count": 5
        }
      ]
    },
    {
      "cell_type": "code",
      "source": [
        "np.dot(price_per_unit, units)"
      ],
      "metadata": {
        "colab": {
          "base_uri": "https://localhost:8080/"
        },
        "id": "Pj1WT8JTtsCR",
        "outputId": "61920f04-2421-4fcf-ba4d-4cf3ea13e907"
      },
      "execution_count": 6,
      "outputs": [
        {
          "output_type": "execute_result",
          "data": {
            "text/plain": [
              "array([34400, 50000, 64400])"
            ]
          },
          "metadata": {},
          "execution_count": 6
        }
      ]
    },
    {
      "cell_type": "code",
      "source": [
        "# excersise\n",
        "revenue=np.array([[200,220,250], [68,79,105], [110, 140,180], [80,85,90]])"
      ],
      "metadata": {
        "id": "fZfaTvyZt7Ue"
      },
      "execution_count": 7,
      "outputs": []
    },
    {
      "cell_type": "code",
      "source": [
        "ksh=133\n",
        "to_ksh=revenue * ksh\n",
        "to_ksh"
      ],
      "metadata": {
        "colab": {
          "base_uri": "https://localhost:8080/"
        },
        "id": "Ys2yvUMsu9xW",
        "outputId": "c796c76e-2ea3-435a-90ad-1b323a12d1e7"
      },
      "execution_count": 11,
      "outputs": [
        {
          "output_type": "execute_result",
          "data": {
            "text/plain": [
              "array([[26600, 29260, 33250],\n",
              "       [ 9044, 10507, 13965],\n",
              "       [14630, 18620, 23940],\n",
              "       [10640, 11305, 11970]])"
            ]
          },
          "metadata": {},
          "execution_count": 11
        }
      ]
    },
    {
      "cell_type": "code",
      "source": [
        "# flowers prices monthly\n",
        "flowers=np.array([[50, 60,25], [10,13,5], [40,70,52]])\n",
        "prices=np.array([[20,30,15]])"
      ],
      "metadata": {
        "id": "pvPV9s_gvRWY"
      },
      "execution_count": 13,
      "outputs": []
    },
    {
      "cell_type": "code",
      "source": [
        "total=np.dot(prices,flowers )"
      ],
      "metadata": {
        "id": "o7ZODhLxwWNx"
      },
      "execution_count": 15,
      "outputs": []
    },
    {
      "cell_type": "code",
      "source": [
        "total"
      ],
      "metadata": {
        "colab": {
          "base_uri": "https://localhost:8080/"
        },
        "id": "PzbTrY5TwlS9",
        "outputId": "63a78fbf-604f-4975-b9c9-e279b2ac87ba"
      },
      "execution_count": 16,
      "outputs": [
        {
          "output_type": "execute_result",
          "data": {
            "text/plain": [
              "array([[1900, 2640, 1430]])"
            ]
          },
          "metadata": {},
          "execution_count": 16
        }
      ]
    },
    {
      "cell_type": "code",
      "source": [
        "total_price=total.sum()\n",
        "total_price"
      ],
      "metadata": {
        "colab": {
          "base_uri": "https://localhost:8080/"
        },
        "id": "9-m8FIPqwnTp",
        "outputId": "5054132d-2a0c-4836-a174-cbfea7c66350"
      },
      "execution_count": 24,
      "outputs": [
        {
          "output_type": "execute_result",
          "data": {
            "text/plain": [
              "5970"
            ]
          },
          "metadata": {},
          "execution_count": 24
        }
      ]
    }
  ]
}